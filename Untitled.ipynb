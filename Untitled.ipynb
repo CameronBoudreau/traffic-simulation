{
 "cells": [
  {
   "cell_type": "code",
   "execution_count": 194,
   "metadata": {
    "collapsed": false
   },
   "outputs": [],
   "source": [
    "import random\n",
    "\n",
    "class Road():\n",
    "\tdef __init__(self, length = 1000,curve = 0):\n",
    "\t\tself.length = length\n",
    "\t\tself.curve = curve\n",
    "\n",
    "\tdef loop(self , car_list, car):\n",
    "\t\tcar.position[0] = (car.position[0] - 1000)\n",
    "\n",
    "\t\tcar_list.insert(0,car_list.pop())\n",
    "\t\treturn car_list\n",
    "\n",
    "class Car():\n",
    "\tdef __init__(self, position, max_speed = 33.3, length = 5, speed = 10):\n",
    "\t\tself.length = length\n",
    "\t\tself.position = position\n",
    "\t\tself.bumper = self.position[0] - 5\n",
    "\t\tself.max_speed = max_speed\n",
    "\t\tself.speed = speed\n",
    "\t\tself.accel = 2\n",
    "\n",
    "\t# def check_car_distance(self, car_list):\n",
    "\t# \tfor car in car_list:\n",
    "\t# \t\tif self.position[0] == self.position[1]:\n",
    "\t# \t\t\tpass\n",
    "\n",
    "\tdef change_speed(self):\n",
    "\t\tif random.randint(1,10) == 7:\n",
    "\t\t\tself.speed -= self.accel\n",
    "\t\telif self.speed + self.accel > self.max_speed:\n",
    "\t\t\tself.speed = self.max_speed\n",
    "\t\telse:\n",
    "\t\t\tself.speed += self.accel\t\t\n",
    "\n",
    "\n",
    "\tdef collision_check(self, next_car):\n",
    "\t\tdifference = next_car.bumper - self.position[0]\n",
    "\t\tif difference < self.speed:\n",
    "\t\t\tif difference - self.speed <= 0:\n",
    "\t\t\t\tself.position[0] = next_car.bumper - 2\n",
    "\t\t\t\tself.speed = 0\n",
    "\t\t\telse:\n",
    "\t\t\t\tself.speed = next_car.speed\n",
    "\n",
    "\t# def change_position(self, road):\n",
    "\t# \tif self.position[0] + self.speed > 1000:\n",
    "\n",
    "\t# \telse:\n",
    "\t# \t\tself.position[0] += self.speed\n",
    "\n",
    "\tdef move_car(self):\n",
    "\t\tself.position[0] += self.speed\n",
    "\t\tself.position[1] +=  1\n",
    "\t\t# if self.needs_loop():\n",
    "\t\t# \treturn True\n",
    "\t\t# self.change_position()\n",
    "\t\t# self.collision_check()\n",
    "\t\t# if self.will_slow():\n",
    "\t\t# \tself.speed -= 2\n",
    "\n",
    "\tdef needs_loop(self):\n",
    "\t\tif self.position[0] > 1000: \n",
    "\t\t\treturn True\n",
    "\n",
    "\n",
    "class Sim():\n",
    "\tdef __init__(self):\n",
    "\t\tself.num_of_cars = 30\n",
    "\t\tself.car_list = []\n",
    "\n",
    "\tdef create_cars(self):\n",
    "\t\tself.car_list = [Car([i * 30, 0]) for i in range(self.num_of_cars)]\n",
    "\t\treturn self.car_list\n",
    "\n",
    "\tdef update_positions(self, road):\n",
    "\t\tfor i, car in enumerate(self.car_list):\n",
    "\t\t\tif car != self.car_list[-1]:\n",
    "\t\t\t\tnext_car = self.car_list[i+1]\n",
    "\t\t\telse:\n",
    "\t\t\t\tnext_car = self.car_list[0]\n",
    "\t\t\tcar.move_car()\n",
    "\t\t\tcar.change_speed()\n",
    "\t\t\tif car.needs_loop():\n",
    "\t\t\t\troad.loop(self.car_list, car)\n",
    "\t\t\tcar.collision_check(next_car)\n",
    "\t\tpass"
   ]
  },
  {
   "cell_type": "code",
   "execution_count": 195,
   "metadata": {
    "collapsed": true
   },
   "outputs": [],
   "source": [
    "car = Car([995,0])\n",
    "road = Road()"
   ]
  },
  {
   "cell_type": "code",
   "execution_count": 196,
   "metadata": {
    "collapsed": false
   },
   "outputs": [
    {
     "data": {
      "text/plain": [
       "__main__.Car"
      ]
     },
     "execution_count": 196,
     "metadata": {},
     "output_type": "execute_result"
    }
   ],
   "source": [
    "type(car)"
   ]
  },
  {
   "cell_type": "code",
   "execution_count": 197,
   "metadata": {
    "collapsed": true
   },
   "outputs": [],
   "source": [
    "text = Sim()"
   ]
  },
  {
   "cell_type": "code",
   "execution_count": 198,
   "metadata": {
    "collapsed": false
   },
   "outputs": [
    {
     "data": {
      "text/plain": [
       "<__main__.Sim at 0x1119cb0b8>"
      ]
     },
     "execution_count": 198,
     "metadata": {},
     "output_type": "execute_result"
    }
   ],
   "source": [
    "text"
   ]
  },
  {
   "cell_type": "code",
   "execution_count": 199,
   "metadata": {
    "collapsed": false
   },
   "outputs": [
    {
     "data": {
      "text/plain": [
       "[<__main__.Car at 0x1119cb0f0>,\n",
       " <__main__.Car at 0x1119cb278>,\n",
       " <__main__.Car at 0x1119cb208>,\n",
       " <__main__.Car at 0x1119cb320>,\n",
       " <__main__.Car at 0x1119cb470>,\n",
       " <__main__.Car at 0x1119cb4a8>,\n",
       " <__main__.Car at 0x1119cb438>,\n",
       " <__main__.Car at 0x1119cb550>,\n",
       " <__main__.Car at 0x1119cb588>,\n",
       " <__main__.Car at 0x1119cb3c8>,\n",
       " <__main__.Car at 0x1119cb358>,\n",
       " <__main__.Car at 0x1119cb630>,\n",
       " <__main__.Car at 0x1119cb5c0>,\n",
       " <__main__.Car at 0x1119cb668>,\n",
       " <__main__.Car at 0x1119cb978>,\n",
       " <__main__.Car at 0x1119cb5f8>,\n",
       " <__main__.Car at 0x1119cb4e0>,\n",
       " <__main__.Car at 0x1119cb518>,\n",
       " <__main__.Car at 0x1119cb390>,\n",
       " <__main__.Car at 0x1119cb898>,\n",
       " <__main__.Car at 0x1119cb7b8>,\n",
       " <__main__.Car at 0x1119cb828>,\n",
       " <__main__.Car at 0x1119cb6a0>,\n",
       " <__main__.Car at 0x1119cba20>,\n",
       " <__main__.Car at 0x1119cb748>,\n",
       " <__main__.Car at 0x1119cb860>,\n",
       " <__main__.Car at 0x1119cbb00>,\n",
       " <__main__.Car at 0x1119cb940>,\n",
       " <__main__.Car at 0x1119cba58>,\n",
       " <__main__.Car at 0x1119cba90>]"
      ]
     },
     "execution_count": 199,
     "metadata": {},
     "output_type": "execute_result"
    }
   ],
   "source": [
    "text.create_cars()"
   ]
  },
  {
   "cell_type": "code",
   "execution_count": 200,
   "metadata": {
    "collapsed": false
   },
   "outputs": [],
   "source": [
    "text.update_positions(road)"
   ]
  },
  {
   "cell_type": "code",
   "execution_count": 201,
   "metadata": {
    "collapsed": false
   },
   "outputs": [
    {
     "data": {
      "text/plain": [
       "[<__main__.Car at 0x1119cb0f0>,\n",
       " <__main__.Car at 0x1119cb278>,\n",
       " <__main__.Car at 0x1119cb208>,\n",
       " <__main__.Car at 0x1119cb320>,\n",
       " <__main__.Car at 0x1119cb470>,\n",
       " <__main__.Car at 0x1119cb4a8>,\n",
       " <__main__.Car at 0x1119cb438>,\n",
       " <__main__.Car at 0x1119cb550>,\n",
       " <__main__.Car at 0x1119cb588>,\n",
       " <__main__.Car at 0x1119cb3c8>,\n",
       " <__main__.Car at 0x1119cb358>,\n",
       " <__main__.Car at 0x1119cb630>,\n",
       " <__main__.Car at 0x1119cb5c0>,\n",
       " <__main__.Car at 0x1119cb668>,\n",
       " <__main__.Car at 0x1119cb978>,\n",
       " <__main__.Car at 0x1119cb5f8>,\n",
       " <__main__.Car at 0x1119cb4e0>,\n",
       " <__main__.Car at 0x1119cb518>,\n",
       " <__main__.Car at 0x1119cb390>,\n",
       " <__main__.Car at 0x1119cb898>,\n",
       " <__main__.Car at 0x1119cb7b8>,\n",
       " <__main__.Car at 0x1119cb828>,\n",
       " <__main__.Car at 0x1119cb6a0>,\n",
       " <__main__.Car at 0x1119cba20>,\n",
       " <__main__.Car at 0x1119cb748>,\n",
       " <__main__.Car at 0x1119cb860>,\n",
       " <__main__.Car at 0x1119cbb00>,\n",
       " <__main__.Car at 0x1119cb940>,\n",
       " <__main__.Car at 0x1119cba58>,\n",
       " <__main__.Car at 0x1119cba90>]"
      ]
     },
     "execution_count": 201,
     "metadata": {},
     "output_type": "execute_result"
    }
   ],
   "source": [
    "text.car_list"
   ]
  },
  {
   "cell_type": "code",
   "execution_count": 202,
   "metadata": {
    "collapsed": false
   },
   "outputs": [
    {
     "data": {
      "text/plain": [
       "[<__main__.Car at 0x1119cba90>,\n",
       " <__main__.Car at 0x1119cb0f0>,\n",
       " <__main__.Car at 0x1119cb278>,\n",
       " <__main__.Car at 0x1119cb208>,\n",
       " <__main__.Car at 0x1119cb320>,\n",
       " <__main__.Car at 0x1119cb470>,\n",
       " <__main__.Car at 0x1119cb4a8>,\n",
       " <__main__.Car at 0x1119cb438>,\n",
       " <__main__.Car at 0x1119cb550>,\n",
       " <__main__.Car at 0x1119cb588>,\n",
       " <__main__.Car at 0x1119cb3c8>,\n",
       " <__main__.Car at 0x1119cb358>,\n",
       " <__main__.Car at 0x1119cb630>,\n",
       " <__main__.Car at 0x1119cb5c0>,\n",
       " <__main__.Car at 0x1119cb668>,\n",
       " <__main__.Car at 0x1119cb978>,\n",
       " <__main__.Car at 0x1119cb5f8>,\n",
       " <__main__.Car at 0x1119cb4e0>,\n",
       " <__main__.Car at 0x1119cb518>,\n",
       " <__main__.Car at 0x1119cb390>,\n",
       " <__main__.Car at 0x1119cb898>,\n",
       " <__main__.Car at 0x1119cb7b8>,\n",
       " <__main__.Car at 0x1119cb828>,\n",
       " <__main__.Car at 0x1119cb6a0>,\n",
       " <__main__.Car at 0x1119cba20>,\n",
       " <__main__.Car at 0x1119cb748>,\n",
       " <__main__.Car at 0x1119cb860>,\n",
       " <__main__.Car at 0x1119cbb00>,\n",
       " <__main__.Car at 0x1119cb940>,\n",
       " <__main__.Car at 0x1119cba58>]"
      ]
     },
     "execution_count": 202,
     "metadata": {},
     "output_type": "execute_result"
    }
   ],
   "source": [
    "road.loop(text.car_list, car)"
   ]
  },
  {
   "cell_type": "code",
   "execution_count": 203,
   "metadata": {
    "collapsed": false
   },
   "outputs": [
    {
     "data": {
      "text/plain": [
       "[<__main__.Car at 0x1119cba90>,\n",
       " <__main__.Car at 0x1119cb0f0>,\n",
       " <__main__.Car at 0x1119cb278>,\n",
       " <__main__.Car at 0x1119cb208>,\n",
       " <__main__.Car at 0x1119cb320>,\n",
       " <__main__.Car at 0x1119cb470>,\n",
       " <__main__.Car at 0x1119cb4a8>,\n",
       " <__main__.Car at 0x1119cb438>,\n",
       " <__main__.Car at 0x1119cb550>,\n",
       " <__main__.Car at 0x1119cb588>,\n",
       " <__main__.Car at 0x1119cb3c8>,\n",
       " <__main__.Car at 0x1119cb358>,\n",
       " <__main__.Car at 0x1119cb630>,\n",
       " <__main__.Car at 0x1119cb5c0>,\n",
       " <__main__.Car at 0x1119cb668>,\n",
       " <__main__.Car at 0x1119cb978>,\n",
       " <__main__.Car at 0x1119cb5f8>,\n",
       " <__main__.Car at 0x1119cb4e0>,\n",
       " <__main__.Car at 0x1119cb518>,\n",
       " <__main__.Car at 0x1119cb390>,\n",
       " <__main__.Car at 0x1119cb898>,\n",
       " <__main__.Car at 0x1119cb7b8>,\n",
       " <__main__.Car at 0x1119cb828>,\n",
       " <__main__.Car at 0x1119cb6a0>,\n",
       " <__main__.Car at 0x1119cba20>,\n",
       " <__main__.Car at 0x1119cb748>,\n",
       " <__main__.Car at 0x1119cb860>,\n",
       " <__main__.Car at 0x1119cbb00>,\n",
       " <__main__.Car at 0x1119cb940>,\n",
       " <__main__.Car at 0x1119cba58>]"
      ]
     },
     "execution_count": 203,
     "metadata": {},
     "output_type": "execute_result"
    }
   ],
   "source": [
    "text.car_list"
   ]
  },
  {
   "cell_type": "code",
   "execution_count": 204,
   "metadata": {
    "collapsed": false
   },
   "outputs": [
    {
     "data": {
      "text/plain": [
       "<__main__.Car at 0x1119cba90>"
      ]
     },
     "execution_count": 204,
     "metadata": {},
     "output_type": "execute_result"
    }
   ],
   "source": [
    "text.car_list[0]"
   ]
  },
  {
   "cell_type": "code",
   "execution_count": 205,
   "metadata": {
    "collapsed": false
   },
   "outputs": [
    {
     "data": {
      "text/plain": [
       "-7"
      ]
     },
     "execution_count": 205,
     "metadata": {},
     "output_type": "execute_result"
    }
   ],
   "source": [
    "text.car_list[0].position[0]"
   ]
  },
  {
   "cell_type": "code",
   "execution_count": null,
   "metadata": {
    "collapsed": true
   },
   "outputs": [],
   "source": []
  },
  {
   "cell_type": "code",
   "execution_count": null,
   "metadata": {
    "collapsed": true
   },
   "outputs": [],
   "source": []
  }
 ],
 "metadata": {
  "kernelspec": {
   "display_name": "Python 3",
   "language": "python",
   "name": "python3"
  },
  "language_info": {
   "codemirror_mode": {
    "name": "ipython",
    "version": 3
   },
   "file_extension": ".py",
   "mimetype": "text/x-python",
   "name": "python",
   "nbconvert_exporter": "python",
   "pygments_lexer": "ipython3",
   "version": "3.5.1"
  }
 },
 "nbformat": 4,
 "nbformat_minor": 0
}
