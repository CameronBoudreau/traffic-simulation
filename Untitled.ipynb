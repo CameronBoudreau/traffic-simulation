{
 "cells": [
  {
   "cell_type": "code",
   "execution_count": null,
   "metadata": {
    "collapsed": false
   },
   "outputs": [],
   "source": [
    "import random\n",
    "import numpy as np\n",
    "import matplotlib.pyplot as plt"
   ]
  },
  {
   "cell_type": "code",
   "execution_count": null,
   "metadata": {
    "collapsed": true
   },
   "outputs": [],
   "source": [
    "class Road():\n",
    "\tdef __init__(self, length = 1000,curve = 0):\n",
    "\t\tself.length = length\n",
    "\t\tself.curve = curve\n",
    "\n",
    "\tdef road_loop(self , car_list, car, next_car):\n",
    "\t\tif next_car.bumper < 6:\n",
    "\t\t\tcar.position[0] = 1000\n",
    "\t\t\tcar.speed = 0\n",
    "\t\telse:\n",
    "\t\t\tcar.position[0] -= 1000\n",
    "\t\t\t# print(\"Car list in road loop else before pop: \", car_list[0].position, car_list[1].position, car_list[2].position)\n",
    "\t\t\tcar_list.insert(0,car_list.pop())\n",
    "\t\t\t# print(\"Car list in road loop else after pop: \", car_list[0].position, car_list[1].position, car_list[2].position)\n",
    "\t\t\tcar.change_speed()\n",
    "\t\t\tcar.collision_check(next_car)\n",
    "\t\treturn car_list\n",
    "\n",
    "\n",
    "class Car():\n",
    "\tdef __init__(self, position, max_speed = 33.3, length = 5, speed = 10):\n",
    "\t\tself.length = length\n",
    "\t\tself.position = position\n",
    "\n",
    "\t\tself.bumper = self.position[0] - 5\n",
    "\t\tself.max_speed = max_speed\n",
    "\t\tself.speed = speed\n",
    "\t\tself.accel = 2\n",
    "\n",
    "\n",
    "\tdef __str__(self):\n",
    "\t\t\"I'm at position {}\".format(self.position)\n",
    "\n",
    "\n",
    "\tdef change_speed(self):\n",
    "\t\tif random.randint(1,10) == 7:\n",
    "\t\t\tself.speed -= self.accel\n",
    "\t\tif self.speed + self.accel > self.max_speed:\n",
    "\t\t\tself.speed = self.max_speed\n",
    "\t\telse:\n",
    "\t\t\tself.speed += self.accel\n",
    "\n",
    "\tdef collision_check(self, next_car):\n",
    "\t\tdifference = next_car.bumper - self.position[0]\n",
    "\t\tif difference < self.speed:\n",
    "\t\t\tif difference <= 0:\n",
    "\t\t\t\tself.position[0] = next_car.bumper - 2\n",
    "\t\t\t\tself.speed = 0\n",
    "\t\t\telse:\n",
    "\t\t\t\tself.speed = next_car.speed\n",
    "\t\treturn self.position\n",
    "\n",
    "\n",
    "\tdef move_car(self):\n",
    "\t\tself.position[0] += self.speed\n",
    "\t\tself.position[1] +=  1\n",
    "\t\treturn self.position\n",
    "\n",
    "\tdef needs_road_loop(self):\n",
    "\t\tif self.position[0] > 1000:\n",
    "\t\t\treturn True\n",
    "\n",
    "\n",
    "        "
   ]
  },
  {
   "cell_type": "code",
   "execution_count": null,
   "metadata": {
    "collapsed": false
   },
   "outputs": [],
   "source": [
    "plt.style.use('dark_background')\n",
    "\n",
    "L = 6\n",
    "x = np.linspace(0, L)\n",
    "ncolors = len(plt.rcParams['axes.color_cycle'])\n",
    "shift = np.linspace(0, L, ncolors, endpoint=False)\n",
    "for s in shift:\n",
    "    plt.plot(x, np.sin(x + s), 'o-')\n",
    "plt.xlabel('x-axis')\n",
    "plt.ylabel('y-axis')\n",
    "plt.title('title')\n",
    "\n",
    "plt.show()"
   ]
  },
  {
   "cell_type": "code",
   "execution_count": null,
   "metadata": {
    "collapsed": true
   },
   "outputs": [],
   "source": []
  },
  {
   "cell_type": "code",
   "execution_count": null,
   "metadata": {
    "collapsed": false
   },
   "outputs": [],
   "source": []
  },
  {
   "cell_type": "code",
   "execution_count": null,
   "metadata": {
    "collapsed": false
   },
   "outputs": [],
   "source": []
  },
  {
   "cell_type": "code",
   "execution_count": null,
   "metadata": {
    "collapsed": false
   },
   "outputs": [],
   "source": []
  },
  {
   "cell_type": "code",
   "execution_count": null,
   "metadata": {
    "collapsed": false
   },
   "outputs": [],
   "source": []
  },
  {
   "cell_type": "code",
   "execution_count": null,
   "metadata": {
    "collapsed": false
   },
   "outputs": [],
   "source": []
  },
  {
   "cell_type": "code",
   "execution_count": null,
   "metadata": {
    "collapsed": false
   },
   "outputs": [],
   "source": []
  },
  {
   "cell_type": "code",
   "execution_count": null,
   "metadata": {
    "collapsed": false
   },
   "outputs": [],
   "source": []
  },
  {
   "cell_type": "code",
   "execution_count": null,
   "metadata": {
    "collapsed": false
   },
   "outputs": [],
   "source": []
  },
  {
   "cell_type": "code",
   "execution_count": null,
   "metadata": {
    "collapsed": true
   },
   "outputs": [],
   "source": []
  },
  {
   "cell_type": "code",
   "execution_count": null,
   "metadata": {
    "collapsed": true
   },
   "outputs": [],
   "source": []
  }
 ],
 "metadata": {
  "kernelspec": {
   "display_name": "Python 3",
   "language": "python",
   "name": "python3"
  },
  "language_info": {
   "codemirror_mode": {
    "name": "ipython",
    "version": 3
   },
   "file_extension": ".py",
   "mimetype": "text/x-python",
   "name": "python",
   "nbconvert_exporter": "python",
   "pygments_lexer": "ipython3",
   "version": "3.5.1"
  }
 },
 "nbformat": 4,
 "nbformat_minor": 0
}
