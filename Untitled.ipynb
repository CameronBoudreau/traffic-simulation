{
 "cells": [
  {
   "cell_type": "code",
   "execution_count": 1,
   "metadata": {
    "collapsed": true
   },
   "outputs": [],
   "source": [
    "class Road():\n",
    "\tdef __init__(self, length = 1000,curve = 0):\n",
    "\t\tself.length = length\n",
    "\t\tself.curve = curve\n",
    "\t\n",
    "\tdef loop(self, car_list):\n",
    "\t\t\n",
    "\t\tif car_list[-1].frontofcar[0] >= self.length:\n",
    "\t\t\tcar_list[-1].frontofcar[0] = 0 \n",
    "\n",
    "\t\treturn car_list.insert(0,car_list.pop())\n",
    "\n",
    "\n",
    "class Car():\n",
    "\tdef __init__(self, frontofcar, max_speed = 33.3, length = 5,):\n",
    "\t\tself.length = length\n",
    "\t\tself.frontofcar = frontofcar\n",
    "\t\tself.max_speed = max_speed\n",
    "\t\tself.speed = 0\n",
    "\t\tself.accel = 2\n",
    "\n",
    "\tdef check_car_distance(self, car_list):\n",
    "\t\tfor car in car_list:\n",
    "\t\t\tif self.frontofcar[0] == self.frontofcar[1]:\n",
    "\t\t\t\tpass\n",
    "\n",
    "\n",
    "\tdef car_accelerate(self):\n",
    "\t\tpass\n"
   ]
  },
  {
   "cell_type": "code",
   "execution_count": 6,
   "metadata": {
    "collapsed": true
   },
   "outputs": [],
   "source": [
    "road = Road()\n",
    "\n",
    "car1 = Car((50,0))\n",
    "car2 = Car((75,0))\n",
    "car3 = Car((1000,0))\n",
    "\n",
    "car_list = [car1, car2, car3]"
   ]
  },
  {
   "cell_type": "code",
   "execution_count": 8,
   "metadata": {
    "collapsed": false
   },
   "outputs": [
    {
     "name": "stdout",
     "output_type": "stream",
     "text": [
      "road.loop(car_list)[0].frontofcar:  50\n"
     ]
    }
   ],
   "source": [
    "print(\"road.loop(car_list)[0].frontofcar: \", car_list[0].frontofcar[0])"
   ]
  },
  {
   "cell_type": "code",
   "execution_count": 9,
   "metadata": {
    "collapsed": false
   },
   "outputs": [
    {
     "data": {
      "text/plain": [
       "1000"
      ]
     },
     "execution_count": 9,
     "metadata": {},
     "output_type": "execute_result"
    }
   ],
   "source": [
    "car_list[-1].frontofcar[0]"
   ]
  },
  {
   "cell_type": "code",
   "execution_count": null,
   "metadata": {
    "collapsed": true
   },
   "outputs": [],
   "source": []
  }
 ],
 "metadata": {
  "kernelspec": {
   "display_name": "Python 3",
   "language": "python",
   "name": "python3"
  },
  "language_info": {
   "codemirror_mode": {
    "name": "ipython",
    "version": 3
   },
   "file_extension": ".py",
   "mimetype": "text/x-python",
   "name": "python",
   "nbconvert_exporter": "python",
   "pygments_lexer": "ipython3",
   "version": "3.5.1"
  }
 },
 "nbformat": 4,
 "nbformat_minor": 0
}
