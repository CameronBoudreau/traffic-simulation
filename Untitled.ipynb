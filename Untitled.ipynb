{
 "cells": [
  {
   "cell_type": "code",
   "execution_count": null,
   "metadata": {
    "collapsed": false
   },
   "outputs": [],
   "source": [
    "import random\n",
    "import numpy as np\n",
    "import matplotlib.pyplot as plt\n"
   ]
  },
  {
   "cell_type": "code",
   "execution_count": null,
   "metadata": {
    "collapsed": false
   },
   "outputs": [],
   "source": []
  },
  {
   "cell_type": "code",
   "execution_count": null,
   "metadata": {
    "collapsed": false
   },
   "outputs": [],
   "source": [
    "\n",
    "class Road():\n",
    "\tdef __init__(self, length = 1000,curve = 0):\n",
    "\t\tself.length = length\n",
    "\t\tself.curve = curve\n",
    "\n",
    "\tdef road_loop(self , car_list, car, next_car):\n",
    "\t\tif next_car.position[0] - 5 < 6:\n",
    "\t\t\t# print(\"Next car position < 6: \", next_car.position)\n",
    "\t\t\t# print(\"Next car bumper < 6: \", next_car.position[0] - 5)\n",
    "\t\t\tcar.position[0] = 1000\n",
    "\t\t\tcar.speed = 0\n",
    "\t\telse:\n",
    "\t\t\tcar.position[0] -= 1000\n",
    "\t\t\t# print(\"Car list in road loop else before pop: \", car_list[0].position, car_list[1].position, car_list[2].position)\n",
    "\t\t\tcar_list.insert(0,car_list.pop())\n",
    "\t\t\t# print(\"Car list in road loop else after pop: \", car_list[0].position, car_list[1].position, car_list[2].position)\n",
    "\t\t\tcar.change_speed()\n",
    "\t\t\tcar.collision_check(next_car)\n",
    "\t\t# print(\"Car list car 1: \", car_list[0].position)\n",
    "\t\treturn car_list\n",
    "\n",
    "class Car():\n",
    "\tdef __init__(self, position, carID = 0, max_speed = 33, length = 5, speed = 10):\n",
    "\t\tself.length = length\n",
    "\t\tself.position = position\n",
    "\t\tself.carid = carID\n",
    "\t\tself.bumper = self.position[0] - 5\n",
    "\t\tself.max_speed = max_speed\n",
    "\t\tself.speed = speed\n",
    "\t\tself.accel = 2\n",
    "\n",
    "\n",
    "\tdef __str__(self):\n",
    "\t\t\"I'm car #{}, at position {}\".format(self.carid, self.position)\n",
    "\n",
    "\n",
    "\tdef change_speed(self):\n",
    "\t\tif random.randint(1,10) == 7:\n",
    "\t\t\tself.speed -= self.accel\n",
    "\t\telif self.speed + self.accel > self.max_speed:\n",
    "\t\t\tself.speed = self.max_speed\n",
    "\t\telse:\n",
    "\t\t\tself.speed += self.accel\n",
    "\n",
    "\tdef collision_check(self, next_car):\n",
    "\t\tdifference = (next_car.position[0] - 5) - self.position[0]\n",
    "\t\tif difference < self.speed:\n",
    "\t\t\tif difference <= 0:\n",
    "\t\t\t\tprint(\"Traffic detected. Stopping!\")\n",
    "\t\t\t\tself.position[0] = next_car.position[0] - 7\n",
    "\t\t\t\tself.speed = 0\n",
    "\t\t\telse:\n",
    "\t\t\t\tprint(\"Traffic detected. Slowing down!\")\n",
    "\t\t\t\tself.speed = next_car.speed\n",
    "\t\treturn self.position\n",
    "\n",
    "\n",
    "\tdef move_car(self):\n",
    "\t\tself.position[0] += self.speed\n",
    "\t\tself.position[1] +=  1\n",
    "\t\treturn self.position\n",
    "\n",
    "\tdef needs_road_loop(self):\n",
    "\t\tif self.position[0] > 1000:\n",
    "\t\t\treturn True\n",
    "\n",
    "class Sim():\n",
    "\tdef __init__(self):\n",
    "\t\tself.num_of_cars = 30\n",
    "\t\tself.car_list = []\n",
    "\t\tself.car_position_list = []\n",
    "\t\tself.car_speed_list = []\n",
    "\n",
    "\n",
    "\tdef __str__():\n",
    "\t\tprint(\"Runs the simulation.\")\n",
    "\n",
    "\tdef create_cars(self):\n",
    "\t\tself.car_list = [Car([i * 30 + 1, 0], i+1) for i in range(self.num_of_cars)]\n",
    "\t\treturn self.car_list\n",
    "\n",
    "\tdef update_positions(self, road):\n",
    "\t\tself.car_position_list = []\n",
    "\t\tfor i, car in enumerate(self.car_list):\n",
    "\t\t\t# print(\"\\nRun: \", i+1)\n",
    "\t\t\t# print(\"Car pos + spd at start: \", car.position, car.speed)\n",
    "\t\t\tself.next_car = self.find_next_car(car, self.car_list, i)\n",
    "\t\t\tcar.move_car()\n",
    "\n",
    "\t\t\tif car == self.car_list[-1]:\n",
    "\t\t\t\tif car.needs_road_loop():\n",
    "\t\t\t\t\t# print(\"\\nCar pos when needing loop: \", car.position)\n",
    "\t\t\t\t\t# print(\"\\nCar[0] when needing loop: \", self.car_list[0].position)\n",
    "\t\t\t\t\tself.car_list = road.road_loop(self.car_list, car, self.next_car)\n",
    "\t\t\t\telse:\n",
    "\t\t\t\t\tcar.change_speed()\n",
    "\n",
    "\t\t\telse:\n",
    "\t\t\t\t# print(\"Car pos before speed change: \", car.position)\n",
    "\t\t\t\tcar.change_speed()\n",
    "\t\t\t\t# print(\"\\nCar pos before collision_check: \", car.position)\n",
    "\t\t\t\t# print(\"Next car pos before collision_check: \", self.next_car.position)\n",
    "\t\t\t\tcar.position = car.collision_check(self.next_car)\n",
    "\t\t\t\t# print(\"Car pos after collision_check: \", car.position)\n",
    "\n",
    "\t\t\t# print(\"Car pos after updates: \", car.position)\n",
    "\t\t\t# self.add_to_position_list(car, self.car_list)\n",
    "\t\t\t# print(\"\\nCar list after add to positions: \", self.car_list[0].position, self.car_list[1].position, self.car_list[2].position)\n",
    "\t\t\t# print(\"\\nPostion list: \", self.car_position_list)\n",
    "\t\tself.car_speed_list = [car.speed for car in self.car_list]\n",
    "\t\tself.car_position_list = [car.position for car in self.car_list]\n",
    "\n",
    "\t\t\t# print(\"Car pos + spd at end: \", car.position, car.speed)\n",
    "\t\t# print(\"\\nCar position list: \", self.car_position_list)\n",
    "\n",
    "\tdef find_next_car(self, car, car_list, i):\n",
    "\t\tif car != self.car_list[-1]:\n",
    "\t\t\tnext_car = self.car_list[i+1]\n",
    "\t\telse:\n",
    "\t\t\tnext_car = self.car_list[0]\n",
    "\t\treturn next_car\n",
    "\n",
    "\n",
    "def main():\n",
    "\n",
    "\tsim = Sim()\n",
    "\troad = Road()\n",
    "\n",
    "\tmaster_list = []\n",
    "\tmaster_speed_list = []\n",
    "\tsim.create_cars()\n",
    "\n",
    "\tstart_list = []\n",
    "\n",
    "\tfor i in sim.car_list:\n",
    "\t\tstart_list.append(i.position)\n",
    "\tmaster_list.append(np.array(start_list))\n",
    "\t# print(\"\\n Initial MASTER list:\\n\", master_list)\n",
    "\n",
    "\tfor i in range(3):\n",
    "\t\t# print(\"\\nRound {}:\".format(i))\n",
    "\t\t# print(\"\\nMASTER list at START\\n{}\\n\".format(master_list))\n",
    "\t\tsim.update_positions(road)\n",
    "\n",
    "\t\t# print(\"\\nMASTER list BEFORE Append - AFTER positions updated in method\\n{}\\n\".format(master_list))\n",
    "\t\tmaster_list.append(np.copy(sim.car_position_list))\n",
    "\t\tmaster_speed_list.append(np.copy(sim.car_speed_list))\n",
    "\n",
    "\tprint(\"\\nMASTER list AFTER Append\\n{}\\n\\n\".format(master_list))\n",
    "\tprint(\"\\nSpeed:{}\\n\\n\".format(master_speed_list))    \n",
    "\n",
    "main()"
   ]
  },
  {
   "cell_type": "code",
   "execution_count": null,
   "metadata": {
    "collapsed": true
   },
   "outputs": [],
   "source": []
  },
  {
   "cell_type": "code",
   "execution_count": null,
   "metadata": {
    "collapsed": false
   },
   "outputs": [],
   "source": []
  },
  {
   "cell_type": "code",
   "execution_count": null,
   "metadata": {
    "collapsed": false
   },
   "outputs": [],
   "source": []
  },
  {
   "cell_type": "code",
   "execution_count": null,
   "metadata": {
    "collapsed": false
   },
   "outputs": [],
   "source": []
  },
  {
   "cell_type": "code",
   "execution_count": null,
   "metadata": {
    "collapsed": false
   },
   "outputs": [],
   "source": []
  },
  {
   "cell_type": "code",
   "execution_count": null,
   "metadata": {
    "collapsed": false
   },
   "outputs": [],
   "source": []
  },
  {
   "cell_type": "code",
   "execution_count": null,
   "metadata": {
    "collapsed": false
   },
   "outputs": [],
   "source": []
  },
  {
   "cell_type": "code",
   "execution_count": null,
   "metadata": {
    "collapsed": false
   },
   "outputs": [],
   "source": []
  },
  {
   "cell_type": "code",
   "execution_count": null,
   "metadata": {
    "collapsed": false
   },
   "outputs": [],
   "source": []
  },
  {
   "cell_type": "code",
   "execution_count": null,
   "metadata": {
    "collapsed": true
   },
   "outputs": [],
   "source": []
  },
  {
   "cell_type": "code",
   "execution_count": null,
   "metadata": {
    "collapsed": true
   },
   "outputs": [],
   "source": []
  }
 ],
 "metadata": {
  "kernelspec": {
   "display_name": "Python 3",
   "language": "python",
   "name": "python3"
  },
  "language_info": {
   "codemirror_mode": {
    "name": "ipython",
    "version": 3
   },
   "file_extension": ".py",
   "mimetype": "text/x-python",
   "name": "python",
   "nbconvert_exporter": "python",
   "pygments_lexer": "ipython3",
   "version": "3.5.1"
  }
 },
 "nbformat": 4,
 "nbformat_minor": 0
}
